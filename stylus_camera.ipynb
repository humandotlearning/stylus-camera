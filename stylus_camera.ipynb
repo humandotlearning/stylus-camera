{
 "cells": [
  {
   "cell_type": "code",
   "execution_count": 3,
   "metadata": {},
   "outputs": [],
   "source": [
    "import numpy as np\n",
    "import cv2\n",
    "import argparse\n",
    "from collections import deque"
   ]
  },
  {
   "cell_type": "code",
   "execution_count": 4,
   "metadata": {},
   "outputs": [],
   "source": [
    "pts = deque(maxlen=64)\n",
    "\n",
    "#normally the hsv value has h=0-360 ,s=0-255, v=0-255 but in opencv it takes h=0-180 degrees\n",
    "Lower_red = np.array([165,50,50])\n",
    "Upper_red = np.array([180,255,255])"
   ]
  },
  {
   "cell_type": "code",
   "execution_count": 5,
   "metadata": {},
   "outputs": [],
   "source": [
    "cap=cv2.VideoCapture(0)\n",
    "while True:\n",
    "    ret, img=cap.read()\n",
    "    img=cv2.flip(img,1)\n",
    "    hsv=cv2.cvtColor(img,cv2.COLOR_BGR2HSV)\n",
    "    kernel=np.ones((5,5),np.uint8)\n",
    "    mask=cv2.inRange(hsv,Lower_red,Upper_red)\n",
    "    mask = cv2.erode(mask, kernel, iterations=2)\n",
    "    #mask=cv2.morphologyEx(mask,cv2.MORPH_OPEN,kernel)\n",
    "    mask=cv2.morphologyEx(mask,cv2.MORPH_CLOSE,kernel)\n",
    "    mask = cv2.dilate(mask, kernel, iterations=1)\n",
    "    res=cv2.bitwise_and(img,img,mask=mask)\n",
    "    cnts,heir=cv2.findContours(mask.copy(),cv2.RETR_EXTERNAL,cv2.CHAIN_APPROX_SIMPLE)[-2:]\n",
    "    center = None\n",
    " \n",
    "    if len(cnts) > 0:\n",
    "        c = max(cnts, key=cv2.contourArea)\n",
    "        (x, y), radius = cv2.minEnclosingCircle(c)\n",
    "        M = cv2.moments(c)\n",
    "        center = (int(M[\"m10\"] / M[\"m00\"]), int(M[\"m01\"] / M[\"m00\"]))\n",
    " \n",
    "        if radius > 5:\n",
    "            cv2.circle(img, (int(x), int(y)), int(radius),(0, 255, 255), 2)\n",
    "            cv2.circle(img, center, 5, (0, 0, 255), -1)\n",
    "        \n",
    "    pts.appendleft(center)\n",
    "    for i in range (1,len(pts)):\n",
    "        if pts[i-1]is None or pts[i] is None:\n",
    "            continue\n",
    "        thick = int(np.sqrt(len(pts) / float(i + 1)) * 2.5)\n",
    "        cv2.line(img, pts[i-1],pts[i],(0,0,225),thick)\n",
    "        \n",
    "    \n",
    "    cv2.imshow(\"Frame\", img)\n",
    "    cv2.imshow(\"mask\",mask)\n",
    "    cv2.imshow(\"res\",res)\n",
    "    \n",
    "    #press 'q' to exit\n",
    "    if cv2.waitKey(1) & 0xFF== ord('q'):\n",
    "        break\n",
    "# cleanup the camera and close any open windows\n",
    "cap.release()\n",
    "cv2.destroyAllWindows()"
   ]
  },
  {
   "cell_type": "code",
   "execution_count": null,
   "metadata": {},
   "outputs": [],
   "source": []
  }
 ],
 "metadata": {
  "kernelspec": {
   "display_name": "Python [conda env:py36]",
   "language": "python",
   "name": "conda-env-py36-py"
  },
  "language_info": {
   "codemirror_mode": {
    "name": "ipython",
    "version": 3
   },
   "file_extension": ".py",
   "mimetype": "text/x-python",
   "name": "python",
   "nbconvert_exporter": "python",
   "pygments_lexer": "ipython3",
   "version": "3.6.5"
  }
 },
 "nbformat": 4,
 "nbformat_minor": 2
}
